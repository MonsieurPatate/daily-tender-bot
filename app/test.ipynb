{
 "cells": [
  {
   "cell_type": "code",
   "execution_count": 4,
   "metadata": {},
   "outputs": [
    {
     "name": "stderr",
     "output_type": "stream",
     "text": [
      "2022-12-20 23:28:17,817 DEBUG:('DROP TABLE IF EXISTS \"members\"', [])\n",
      "2022-12-20 23:28:17,877 DEBUG:('CREATE TABLE IF NOT EXISTS \"members\" (\"id\" INTEGER NOT NULL PRIMARY KEY, \"full_name\" TEXT NOT NULL, \"chat_id\" INTEGER NOT NULL, \"skip_until_date\" DATE, \"is_participant\" INTEGER NOT NULL)', [])\n"
     ]
    }
   ],
   "source": [
    "from database.config import *\n",
    "from database.models import Member\n",
    "\n",
    "if db.is_closed():\n",
    "    db.connect()\n",
    "db.drop_tables([Member])\n",
    "db.create_tables([Member])"
   ]
  },
  {
   "cell_type": "code",
   "execution_count": 5,
   "metadata": {},
   "outputs": [
    {
     "name": "stderr",
     "output_type": "stream",
     "text": [
      "2022-12-20 23:28:20,677 DEBUG:('INSERT INTO \"members\" (\"full_name\", \"chat_id\", \"is_participant\") VALUES (?, ?, ?)', ['Камек Мамбек', 111111, True])\n",
      "2022-12-20 23:28:20,736 INFO:Пользователь сохранён (1)\n",
      "2022-12-20 23:28:20,738 DEBUG:('INSERT INTO \"members\" (\"full_name\", \"chat_id\", \"is_participant\") VALUES (?, ?, ?)', ['Камек Колек', 111111, True])\n",
      "2022-12-20 23:28:20,770 INFO:Пользователь сохранён (1)\n"
     ]
    }
   ],
   "source": [
    "from database.repo import MemberRepo\n",
    "\n",
    "repo = MemberRepo()\n",
    "\n",
    "repo.add_participant('Камек Мамбек', 111111)\n",
    "repo.add_participant('Камек Колек', 111111)"
   ]
  },
  {
   "cell_type": "code",
   "execution_count": 6,
   "metadata": {},
   "outputs": [
    {
     "name": "stderr",
     "output_type": "stream",
     "text": [
      "2022-12-20 23:28:22,727 INFO:\n",
      "2022-12-20 23:28:22,729 DEBUG:('SELECT \"t1\".\"id\", \"t1\".\"full_name\", \"t1\".\"chat_id\", \"t1\".\"skip_until_date\", \"t1\".\"is_participant\" FROM \"members\" AS \"t1\" WHERE (\"t1\".\"is_participant\" AND (\"t1\".\"chat_id\" = ?))', [111111])\n"
     ]
    },
    {
     "name": "stdout",
     "output_type": "stream",
     "text": [
      "Камек Мамбек\n",
      "Камек Колек\n"
     ]
    }
   ],
   "source": [
    "members = repo.get_participants(111111)\n",
    "for m in members:\n",
    "    print(m.full_name)"
   ]
  }
 ],
 "metadata": {
  "kernelspec": {
   "display_name": "Python 3",
   "language": "python",
   "name": "python3"
  },
  "language_info": {
   "codemirror_mode": {
    "name": "ipython",
    "version": 3
   },
   "file_extension": ".py",
   "mimetype": "text/x-python",
   "name": "python",
   "nbconvert_exporter": "python",
   "pygments_lexer": "ipython3",
   "version": "3.10.5"
  },
  "orig_nbformat": 4,
  "vscode": {
   "interpreter": {
    "hash": "26de051ba29f2982a8de78e945f0abaf191376122a1563185a90213a26c5da77"
   }
  }
 },
 "nbformat": 4,
 "nbformat_minor": 2
}
